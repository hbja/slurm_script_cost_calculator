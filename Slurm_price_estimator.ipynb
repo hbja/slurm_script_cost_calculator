{
  "nbformat": 4,
  "nbformat_minor": 0,
  "metadata": {
    "colab": {
      "provenance": []
    },
    "kernelspec": {
      "name": "python3",
      "display_name": "Python 3"
    },
    "language_info": {
      "name": "python"
    }
  },
  "cells": [
    {
      "cell_type": "code",
      "execution_count": 1,
      "metadata": {
        "id": "YVvU155lUwp-"
      },
      "outputs": [],
      "source": [
        "import re"
      ]
    },
    {
      "cell_type": "code",
      "source": [
        "def extract_resource_usage(slurm_script):\n",
        "    with open(slurm_script, 'r') as file:\n",
        "        content = file.read()\n",
        "\n",
        "    gpu_match = re.search(r\"#SBATCH --gres=gpu:(\\d+)\", content)\n",
        "    num_gpus = int(gpu_match.group(1)) if gpu_match else 0\n",
        "\n",
        "    cpu_match = re.search(r\"#SBATCH --cpus-per-task=(\\d+)\", content)\n",
        "    if cpu_match:\n",
        "        num_cpus = int(cpu_match.group(1))\n",
        "    else:\n",
        "        cpu_match = re.search(r\"#SBATCH --cpus-per-gpu=(\\d+)\", content)\n",
        "        num_cpus = int(cpu_match.group(1)) * num_gpus if cpu_match else 0\n",
        "\n",
        "    memory_match = re.search(r\"#SBATCH --mem=(\\d+)\", content)\n",
        "    if memory_match:\n",
        "        memory_gb = int(memory_match.group(1))\n",
        "    else:\n",
        "        memory_match = re.search(r\"#SBATCH --mem-per-cpu=(\\d+)\", content)\n",
        "        memory_gb = int(memory_match.group(1)) * num_cpus if memory_match else 0\n",
        "\n",
        "    time_match = re.search(r\"#SBATCH --time=(\\d+)-(\\d+):(\\d+):(\\d+)\", content)\n",
        "    if time_match:\n",
        "        days, hours, minutes, seconds = map(int, time_match.groups())\n",
        "        total_hours = days * 24 + hours + minutes / 60 + seconds / 3600\n",
        "    else:\n",
        "        time_match = re.search(r\"#SBATCH --time=(\\d+):(\\d+):(\\d+)\", content)\n",
        "        if time_match:\n",
        "            hours, minutes, seconds = map(int, time_match.groups())\n",
        "            total_hours = hours + minutes / 60 + seconds / 3600\n",
        "        else:\n",
        "            total_hours = 0\n",
        "\n",
        "    # If using array\n",
        "    array_match = re.search(r\"#SBATCH --array=(\\d+)-(\\d+)\", content)\n",
        "    if array_match:\n",
        "        array_start, array_end = map(int, array_match.groups())\n",
        "        array_size = array_end - array_start + 1\n",
        "    else:\n",
        "        array_size = 1\n",
        "\n",
        "    return num_gpus, num_cpus, memory_gb, total_hours, array_size\n",
        "\n",
        "def calculate_cost(num_gpus, num_cpus, memory_gb, total_hours, array_size):\n",
        "    # prices defined in Anunna wiki, in Euros\n",
        "    gpu_cost_per_hour = 0.3000\n",
        "    cpu_cost_per_hour = 0.0150\n",
        "    memory_cost_per_hour = 0.0015\n",
        "\n",
        "    total_cost = (\n",
        "        (num_gpus * gpu_cost_per_hour +\n",
        "         num_cpus * cpu_cost_per_hour +\n",
        "         memory_gb * memory_cost_per_hour) *\n",
        "        total_hours *\n",
        "        array_size\n",
        "    )\n",
        "\n",
        "    return total_cost\n"
      ],
      "metadata": {
        "colab": {
          "base_uri": "https://localhost:8080/"
        },
        "id": "vcG-SQDrUxWt",
        "outputId": "3d1069d1-df2a-4ce4-fac6-48b945e3d8e0"
      },
      "execution_count": 11,
      "outputs": [
        {
          "output_type": "stream",
          "name": "stdout",
          "text": [
            "Estimated Resource Usage Price: €23.0400\n"
          ]
        }
      ]
    },
    {
      "cell_type": "code",
      "source": [
        "# Specify script name here and upload the script used\n",
        "script_name = 'train_cropgym_array_rew.sh'\n",
        "slurm_script = f'/content/{script_name}'\n",
        "\n",
        "\n",
        "num_gpus, num_cpus, memory_gb, total_hours, array_size = extract_resource_usage(slurm_script)\n",
        "total_cost = calculate_cost(num_gpus, num_cpus, memory_gb, total_hours, array_size)\n",
        "\n",
        "print(\n",
        "    f\"Num gpus: {num_gpus}\\n\"\n",
        "    f\"Num cpus: {num_cpus}\\n\"\n",
        "    f\"Memory used: {memory_gb} GBs\\n\"\n",
        "    f\"Totak hours scheduled per-task: {total_hours} (may finish earlier, thus lower actual cost than estimated)\\n\"\n",
        "    f\"Job array size: {array_size}\\n\"\n",
        "    f\"Estimated Resource Usage Price: €{total_cost:.4f}\"\n",
        "  )"
      ],
      "metadata": {
        "colab": {
          "base_uri": "https://localhost:8080/"
        },
        "id": "qKSR8yOsV2zG",
        "outputId": "f3f5da20-a0ff-4c2f-8f22-418253385ded"
      },
      "execution_count": 19,
      "outputs": [
        {
          "output_type": "stream",
          "name": "stdout",
          "text": [
            "Num gpus: 0\n",
            "Num cpus: 2\n",
            "Memory used: 12 GBs\n",
            "Totak hours scheduled per-task: 48.0 (may finish earlier, thus lower actual cost than estimated)\n",
            "Job array size: 10\n",
            "Estimated Resource Usage Price: €23.0400\n"
          ]
        }
      ]
    },
    {
      "cell_type": "code",
      "source": [],
      "metadata": {
        "id": "Yys-Y1KtYEua"
      },
      "execution_count": null,
      "outputs": []
    }
  ]
}